{
  "nbformat": 4,
  "nbformat_minor": 0,
  "metadata": {
    "colab": {
      "provenance": []
    },
    "kernelspec": {
      "name": "python3",
      "display_name": "Python 3"
    },
    "language_info": {
      "name": "python"
    }
  },
  "cells": [
    {
      "cell_type": "markdown",
      "source": [
        "# Hands-on Lab: Acquiring and Processing Information on the World's Largest Banks"
      ],
      "metadata": {
        "id": "SLvQv_kDMfrD"
      }
    },
    {
      "cell_type": "markdown",
      "source": [
        "## Project Scenario:"
      ],
      "metadata": {
        "id": "fB2N4Ms9NCVv"
      }
    },
    {
      "cell_type": "markdown",
      "source": [
        "You have been hired as a data engineer by research organization. Your boss has asked you to create a code that can be used to compile the list of the top 10 largest banks in the world ranked by market capitalization in billion USD. Further, the data needs to be transformed and stored in GBP, EUR and INR as well, in accordance with the exchange rate information that has been made available to you as a CSV file. The processed information table is to be saved locally in a CSV format and as a database table.\n",
        "\n",
        "Your job is to create an automated system to generate this information so that the same can be executed in every financial quarter to prepare the report.\n",
        "\n",
        "Particulars of the code to be made have been shared below."
      ],
      "metadata": {
        "id": "W-e-kkhONFIj"
      }
    },
    {
      "cell_type": "markdown",
      "source": [
        "| **Parameter**                             | **Value**                                                                                           |\n",
        "|-------------------------------------------|-----------------------------------------------------------------------------------------------------|\n",
        "| **Code name**                             | `banks_project.py`                                                                                  |\n",
        "| **Data URL**                              | [https://web.archive.org/web/20230908091635/https://en.wikipedia.org/wiki/List_of_largest_banks](https://web.archive.org/web/20230908091635/https://en.wikipedia.org/wiki/List_of_largest_banks) |\n",
        "| **Exchange rate CSV path**                | [https://cf-courses-data.s3.us.cloud-object-storage.appdomain.cloud/IBMSkillsNetwork-PY0221EN-Coursera/labs/v2/exchange_rate.csv](https://cf-courses-data.s3.us.cloud-object-storage.appdomain.cloud/IBMSkillsNetwork-PY0221EN-Coursera/labs/v2/exchange_rate.csv) |\n",
        "| **Table Attributes (upon Extraction only)**| `Name`, `MC_USD_Billion`                                                                             |\n",
        "| **Table Attributes (final)**              | `Name`, `MC_USD_Billion`, `MC_GBP_Billion`, `MC_EUR_Billion`, `MC_INR_Billion`                       |\n",
        "| **Output CSV Path**                       | `./Largest_banks_data.csv`                                                                           |\n",
        "| **Database name**                         | `Banks.db`                                                                                           |\n",
        "| **Table name**                            | `Largest_banks`                                                                                      |\n",
        "| **Log file**                              | `code_log.txt`                                                                                       |\n"
      ],
      "metadata": {
        "id": "qHdTY3qcRuRn"
      }
    },
    {
      "cell_type": "markdown",
      "source": [
        "## Requirements"
      ],
      "metadata": {
        "id": "A6aGT1O9Rw0Y"
      }
    },
    {
      "cell_type": "code",
      "source": [
        "!pip install numpy pandas bs4 wget > /dev/null"
      ],
      "metadata": {
        "id": "YQ66V_J-OGeu"
      },
      "execution_count": 1,
      "outputs": []
    },
    {
      "cell_type": "code",
      "source": [
        "import numpy as np\n",
        "import pandas as pd\n",
        "import requests\n",
        "import sqlite3\n",
        "from bs4 import BeautifulSoup\n",
        "from datetime import datetime\n",
        "import wget\n",
        "# Suppress generated warnings\n",
        "def warn(*args, **kwargs):\n",
        "    pass\n",
        "import warnings\n",
        "warnings.warn = warn\n",
        "warnings.filterwarnings('ignore')"
      ],
      "metadata": {
        "id": "o9yKsD4VN50b"
      },
      "execution_count": 2,
      "outputs": []
    },
    {
      "cell_type": "code",
      "source": [
        "wget.download(\"https://cf-courses-data.s3.us.cloud-object-storage.appdomain.cloud/IBMSkillsNetwork-PY0221EN-Coursera/labs/v2/exchange_rate.csv\")"
      ],
      "metadata": {
        "colab": {
          "base_uri": "https://localhost:8080/",
          "height": 35
        },
        "id": "phieBsPzN77i",
        "outputId": "aeec8558-4fa1-41bb-e150-81a81bc9494a"
      },
      "execution_count": 3,
      "outputs": [
        {
          "output_type": "execute_result",
          "data": {
            "text/plain": [
              "'exchange_rate (1).csv'"
            ],
            "application/vnd.google.colaboratory.intrinsic+json": {
              "type": "string"
            }
          },
          "metadata": {},
          "execution_count": 3
        }
      ]
    },
    {
      "cell_type": "markdown",
      "source": [
        "## Project tasks"
      ],
      "metadata": {
        "id": "f0DWim8ZNM5f"
      }
    },
    {
      "cell_type": "markdown",
      "source": [
        "### Task 1:"
      ],
      "metadata": {
        "id": "kziksy4WNS5w"
      }
    },
    {
      "cell_type": "markdown",
      "source": [
        "Write a function log_progress() to log the progress of the code at different stages in a file code_log.txt. Use the list of log points provided to create log entries as every stage of the code."
      ],
      "metadata": {
        "id": "DmozvvG2NO7V"
      }
    },
    {
      "cell_type": "code",
      "source": [
        "def log_progress(message):\n",
        "    timestamp_format = \"%Y-%h-%d-%H:%M:%S\"\n",
        "    now = datetime.now()\n",
        "    timestamp = now.strftime(timestamp_format)\n",
        "    with open(log_file,\"a\") as f:\n",
        "        f.write(timestamp + \" : \" + message + \"\\n\")"
      ],
      "metadata": {
        "id": "0ehLBJZhN2PN"
      },
      "execution_count": 4,
      "outputs": []
    },
    {
      "cell_type": "markdown",
      "source": [
        "### Task 2:"
      ],
      "metadata": {
        "id": "NbADesBtNXNB"
      }
    },
    {
      "cell_type": "markdown",
      "source": [
        "Extract the tabular information from the given URL under the heading 'By market capitalization' and save it to a dataframe.\n",
        "a. Inspect the webpage and identify the position and pattern of the tabular information in the HTML code\n",
        "b. Write the code for a function extract() to perform the required data extraction.\n",
        "c. Execute a function call to extract() to verify the output."
      ],
      "metadata": {
        "id": "wjfEo5eTNUoQ"
      }
    },
    {
      "cell_type": "code",
      "source": [
        "def extract(url, table_attribs):\n",
        "    page = requests.get(url).text\n",
        "    soup = BeautifulSoup(page, \"html.parser\")\n",
        "\n",
        "    df = pd.DataFrame(columns=table_attribs)\n",
        "\n",
        "    tables = soup.find_all(\"tbody\")\n",
        "    rows = tables[0].find_all(\"tr\")\n",
        "\n",
        "    for row in rows:\n",
        "        col = row.find_all(\"td\")\n",
        "        if len(col) != 0:\n",
        "            data_dict = {\"Name\": col[1].find_all(\"a\")[1][\"title\"],\n",
        "                         \"MC_USD_Billion\": float(col[2].contents[0][:-1])}\n",
        "            df1 = pd.DataFrame(data_dict, index=[0])\n",
        "            df = pd.concat([df, df1], ignore_index=True)\n",
        "\n",
        "    return df"
      ],
      "metadata": {
        "id": "Jkpl5o1-OSAp"
      },
      "execution_count": 18,
      "outputs": []
    },
    {
      "cell_type": "markdown",
      "source": [
        "### Task 3:"
      ],
      "metadata": {
        "id": "8mTFa5F9NYoQ"
      }
    },
    {
      "cell_type": "markdown",
      "source": [
        "Transform the dataframe by adding columns for Market Capitalization in GBP, EUR and INR, rounded to 2 decimal places, based on the exchange rate information shared as a CSV file.\n",
        "a. Write the code for a function transform() to perform the said task.\n",
        "b. Execute a function call to transform() and verify the output."
      ],
      "metadata": {
        "id": "Djk1NxK7NYgv"
      }
    },
    {
      "cell_type": "code",
      "source": [
        "def transform(df, csv_path):\n",
        "    exchange_rate = pd.read_csv(csv_path)\n",
        "\n",
        "    exchange_rate = exchange_rate.set_index(\"Currency\").to_dict()[\"Rate\"]\n",
        "\n",
        "    df[\"MC_GBP_Billion\"] = [np.round(x * exchange_rate[\"GBP\"], 2) for x in df[\"MC_USD_Billion\"]]\n",
        "    df[\"MC_EUR_Billion\"] = [np.round(x * exchange_rate[\"EUR\"], 2) for x in df[\"MC_USD_Billion\"]]\n",
        "    df[\"MC_INR_Billion\"] = [np.round(x * exchange_rate[\"INR\"], 2) for x in df[\"MC_USD_Billion\"]]\n",
        "\n",
        "    return df"
      ],
      "metadata": {
        "id": "-LivIi3pOYGu"
      },
      "execution_count": 6,
      "outputs": []
    },
    {
      "cell_type": "markdown",
      "source": [
        "### Task 4:"
      ],
      "metadata": {
        "id": "qGSEFwAMNc7_"
      }
    },
    {
      "cell_type": "markdown",
      "source": [
        "Load the transformed dataframe to an output CSV file. Write a function load_to_csv(), execute a function call and verify the output."
      ],
      "metadata": {
        "id": "171_f3JTNcxN"
      }
    },
    {
      "cell_type": "code",
      "source": [
        "def load_to_csv(df, output_path):\n",
        "    df.to_csv(output_path)\n",
        ""
      ],
      "metadata": {
        "id": "b1KXBj3iOhE4"
      },
      "execution_count": 7,
      "outputs": []
    },
    {
      "cell_type": "markdown",
      "source": [
        "### Task 5:"
      ],
      "metadata": {
        "id": "1SHVVgRaNkOw"
      }
    },
    {
      "cell_type": "markdown",
      "source": [
        "Load the transformed dataframe to an SQL database server as a table. Write a function load_to_db(), execute a function call and verify the output."
      ],
      "metadata": {
        "id": "KTb0ohayNhlx"
      }
    },
    {
      "cell_type": "code",
      "source": [
        "def load_to_db(df, sql_connection, table_name):\n",
        "    df.to_sql(table_name, sql_connection, if_exists='replace', index=False)\n",
        ""
      ],
      "metadata": {
        "id": "WGxFIChmOlQF"
      },
      "execution_count": 8,
      "outputs": []
    },
    {
      "cell_type": "markdown",
      "source": [
        "### Task 6:"
      ],
      "metadata": {
        "id": "F0YYSnbxNl92"
      }
    },
    {
      "cell_type": "markdown",
      "source": [
        "Run queries on the database table. Write a function load_to_db(), execute a given set of queries and verify the output."
      ],
      "metadata": {
        "id": "9oj1HvI_Nl0I"
      }
    },
    {
      "cell_type": "code",
      "source": [
        "def run_query(query_statement, sql_connection):\n",
        "    print(query_statement)\n",
        "    query_output = pd.read_sql(query_statement, sql_connection)\n",
        "    print(query_output)"
      ],
      "metadata": {
        "id": "ktQMHOFUOqYy"
      },
      "execution_count": 9,
      "outputs": []
    },
    {
      "cell_type": "code",
      "source": [
        "url = \"https://web.archive.org/web/20230908091635/https://en.wikipedia.org/wiki/List_of_largest_banks\"\n",
        "csv_path = \"./exchange_rate.csv\"\n",
        "table_attribs = [\"Name\", \"MC_USD_Billion\"]\n",
        "output_path = \"./Largest_banks_data.csv\"\n",
        "db_name = \"Banks.db\"\n",
        "table_name = \"Largest_banks\"\n",
        "log_file = \"./code_log.txt\"\n",
        "\n",
        "log_progress(\"Preliminaries complete. Initiating ETL process\")"
      ],
      "metadata": {
        "id": "AQCuhgPaOygm"
      },
      "execution_count": 10,
      "outputs": []
    },
    {
      "cell_type": "code",
      "source": [
        "df = extract(url, table_attribs)\n",
        "log_progress(\"Data extraction complete. Initiating Transformation process\")\n",
        "df"
      ],
      "metadata": {
        "colab": {
          "base_uri": "https://localhost:8080/",
          "height": 363
        },
        "id": "MSE1ZEvaTxWL",
        "outputId": "a972ad86-682c-42d3-ba3f-baf0baa8fc37"
      },
      "execution_count": 22,
      "outputs": [
        {
          "output_type": "execute_result",
          "data": {
            "text/plain": [
              "                                      Name  MC_USD_Billion\n",
              "0                           JPMorgan Chase          432.92\n",
              "1                          Bank of America          231.52\n",
              "2  Industrial and Commercial Bank of China          194.56\n",
              "3               Agricultural Bank of China          160.68\n",
              "4                                HDFC Bank          157.91\n",
              "5                              Wells Fargo          155.87\n",
              "6                                     HSBC          148.90\n",
              "7                           Morgan Stanley          140.83\n",
              "8                  China Construction Bank          139.82\n",
              "9                            Bank of China          136.81"
            ],
            "text/html": [
              "\n",
              "  <div id=\"df-8a2a22e9-d805-4435-9528-dc548eb3e874\" class=\"colab-df-container\">\n",
              "    <div>\n",
              "<style scoped>\n",
              "    .dataframe tbody tr th:only-of-type {\n",
              "        vertical-align: middle;\n",
              "    }\n",
              "\n",
              "    .dataframe tbody tr th {\n",
              "        vertical-align: top;\n",
              "    }\n",
              "\n",
              "    .dataframe thead th {\n",
              "        text-align: right;\n",
              "    }\n",
              "</style>\n",
              "<table border=\"1\" class=\"dataframe\">\n",
              "  <thead>\n",
              "    <tr style=\"text-align: right;\">\n",
              "      <th></th>\n",
              "      <th>Name</th>\n",
              "      <th>MC_USD_Billion</th>\n",
              "    </tr>\n",
              "  </thead>\n",
              "  <tbody>\n",
              "    <tr>\n",
              "      <th>0</th>\n",
              "      <td>JPMorgan Chase</td>\n",
              "      <td>432.92</td>\n",
              "    </tr>\n",
              "    <tr>\n",
              "      <th>1</th>\n",
              "      <td>Bank of America</td>\n",
              "      <td>231.52</td>\n",
              "    </tr>\n",
              "    <tr>\n",
              "      <th>2</th>\n",
              "      <td>Industrial and Commercial Bank of China</td>\n",
              "      <td>194.56</td>\n",
              "    </tr>\n",
              "    <tr>\n",
              "      <th>3</th>\n",
              "      <td>Agricultural Bank of China</td>\n",
              "      <td>160.68</td>\n",
              "    </tr>\n",
              "    <tr>\n",
              "      <th>4</th>\n",
              "      <td>HDFC Bank</td>\n",
              "      <td>157.91</td>\n",
              "    </tr>\n",
              "    <tr>\n",
              "      <th>5</th>\n",
              "      <td>Wells Fargo</td>\n",
              "      <td>155.87</td>\n",
              "    </tr>\n",
              "    <tr>\n",
              "      <th>6</th>\n",
              "      <td>HSBC</td>\n",
              "      <td>148.90</td>\n",
              "    </tr>\n",
              "    <tr>\n",
              "      <th>7</th>\n",
              "      <td>Morgan Stanley</td>\n",
              "      <td>140.83</td>\n",
              "    </tr>\n",
              "    <tr>\n",
              "      <th>8</th>\n",
              "      <td>China Construction Bank</td>\n",
              "      <td>139.82</td>\n",
              "    </tr>\n",
              "    <tr>\n",
              "      <th>9</th>\n",
              "      <td>Bank of China</td>\n",
              "      <td>136.81</td>\n",
              "    </tr>\n",
              "  </tbody>\n",
              "</table>\n",
              "</div>\n",
              "    <div class=\"colab-df-buttons\">\n",
              "\n",
              "  <div class=\"colab-df-container\">\n",
              "    <button class=\"colab-df-convert\" onclick=\"convertToInteractive('df-8a2a22e9-d805-4435-9528-dc548eb3e874')\"\n",
              "            title=\"Convert this dataframe to an interactive table.\"\n",
              "            style=\"display:none;\">\n",
              "\n",
              "  <svg xmlns=\"http://www.w3.org/2000/svg\" height=\"24px\" viewBox=\"0 -960 960 960\">\n",
              "    <path d=\"M120-120v-720h720v720H120Zm60-500h600v-160H180v160Zm220 220h160v-160H400v160Zm0 220h160v-160H400v160ZM180-400h160v-160H180v160Zm440 0h160v-160H620v160ZM180-180h160v-160H180v160Zm440 0h160v-160H620v160Z\"/>\n",
              "  </svg>\n",
              "    </button>\n",
              "\n",
              "  <style>\n",
              "    .colab-df-container {\n",
              "      display:flex;\n",
              "      gap: 12px;\n",
              "    }\n",
              "\n",
              "    .colab-df-convert {\n",
              "      background-color: #E8F0FE;\n",
              "      border: none;\n",
              "      border-radius: 50%;\n",
              "      cursor: pointer;\n",
              "      display: none;\n",
              "      fill: #1967D2;\n",
              "      height: 32px;\n",
              "      padding: 0 0 0 0;\n",
              "      width: 32px;\n",
              "    }\n",
              "\n",
              "    .colab-df-convert:hover {\n",
              "      background-color: #E2EBFA;\n",
              "      box-shadow: 0px 1px 2px rgba(60, 64, 67, 0.3), 0px 1px 3px 1px rgba(60, 64, 67, 0.15);\n",
              "      fill: #174EA6;\n",
              "    }\n",
              "\n",
              "    .colab-df-buttons div {\n",
              "      margin-bottom: 4px;\n",
              "    }\n",
              "\n",
              "    [theme=dark] .colab-df-convert {\n",
              "      background-color: #3B4455;\n",
              "      fill: #D2E3FC;\n",
              "    }\n",
              "\n",
              "    [theme=dark] .colab-df-convert:hover {\n",
              "      background-color: #434B5C;\n",
              "      box-shadow: 0px 1px 3px 1px rgba(0, 0, 0, 0.15);\n",
              "      filter: drop-shadow(0px 1px 2px rgba(0, 0, 0, 0.3));\n",
              "      fill: #FFFFFF;\n",
              "    }\n",
              "  </style>\n",
              "\n",
              "    <script>\n",
              "      const buttonEl =\n",
              "        document.querySelector('#df-8a2a22e9-d805-4435-9528-dc548eb3e874 button.colab-df-convert');\n",
              "      buttonEl.style.display =\n",
              "        google.colab.kernel.accessAllowed ? 'block' : 'none';\n",
              "\n",
              "      async function convertToInteractive(key) {\n",
              "        const element = document.querySelector('#df-8a2a22e9-d805-4435-9528-dc548eb3e874');\n",
              "        const dataTable =\n",
              "          await google.colab.kernel.invokeFunction('convertToInteractive',\n",
              "                                                    [key], {});\n",
              "        if (!dataTable) return;\n",
              "\n",
              "        const docLinkHtml = 'Like what you see? Visit the ' +\n",
              "          '<a target=\"_blank\" href=https://colab.research.google.com/notebooks/data_table.ipynb>data table notebook</a>'\n",
              "          + ' to learn more about interactive tables.';\n",
              "        element.innerHTML = '';\n",
              "        dataTable['output_type'] = 'display_data';\n",
              "        await google.colab.output.renderOutput(dataTable, element);\n",
              "        const docLink = document.createElement('div');\n",
              "        docLink.innerHTML = docLinkHtml;\n",
              "        element.appendChild(docLink);\n",
              "      }\n",
              "    </script>\n",
              "  </div>\n",
              "\n",
              "\n",
              "<div id=\"df-cf58c50d-8512-4ad9-ae08-35713a2dc87b\">\n",
              "  <button class=\"colab-df-quickchart\" onclick=\"quickchart('df-cf58c50d-8512-4ad9-ae08-35713a2dc87b')\"\n",
              "            title=\"Suggest charts\"\n",
              "            style=\"display:none;\">\n",
              "\n",
              "<svg xmlns=\"http://www.w3.org/2000/svg\" height=\"24px\"viewBox=\"0 0 24 24\"\n",
              "     width=\"24px\">\n",
              "    <g>\n",
              "        <path d=\"M19 3H5c-1.1 0-2 .9-2 2v14c0 1.1.9 2 2 2h14c1.1 0 2-.9 2-2V5c0-1.1-.9-2-2-2zM9 17H7v-7h2v7zm4 0h-2V7h2v10zm4 0h-2v-4h2v4z\"/>\n",
              "    </g>\n",
              "</svg>\n",
              "  </button>\n",
              "\n",
              "<style>\n",
              "  .colab-df-quickchart {\n",
              "      --bg-color: #E8F0FE;\n",
              "      --fill-color: #1967D2;\n",
              "      --hover-bg-color: #E2EBFA;\n",
              "      --hover-fill-color: #174EA6;\n",
              "      --disabled-fill-color: #AAA;\n",
              "      --disabled-bg-color: #DDD;\n",
              "  }\n",
              "\n",
              "  [theme=dark] .colab-df-quickchart {\n",
              "      --bg-color: #3B4455;\n",
              "      --fill-color: #D2E3FC;\n",
              "      --hover-bg-color: #434B5C;\n",
              "      --hover-fill-color: #FFFFFF;\n",
              "      --disabled-bg-color: #3B4455;\n",
              "      --disabled-fill-color: #666;\n",
              "  }\n",
              "\n",
              "  .colab-df-quickchart {\n",
              "    background-color: var(--bg-color);\n",
              "    border: none;\n",
              "    border-radius: 50%;\n",
              "    cursor: pointer;\n",
              "    display: none;\n",
              "    fill: var(--fill-color);\n",
              "    height: 32px;\n",
              "    padding: 0;\n",
              "    width: 32px;\n",
              "  }\n",
              "\n",
              "  .colab-df-quickchart:hover {\n",
              "    background-color: var(--hover-bg-color);\n",
              "    box-shadow: 0 1px 2px rgba(60, 64, 67, 0.3), 0 1px 3px 1px rgba(60, 64, 67, 0.15);\n",
              "    fill: var(--button-hover-fill-color);\n",
              "  }\n",
              "\n",
              "  .colab-df-quickchart-complete:disabled,\n",
              "  .colab-df-quickchart-complete:disabled:hover {\n",
              "    background-color: var(--disabled-bg-color);\n",
              "    fill: var(--disabled-fill-color);\n",
              "    box-shadow: none;\n",
              "  }\n",
              "\n",
              "  .colab-df-spinner {\n",
              "    border: 2px solid var(--fill-color);\n",
              "    border-color: transparent;\n",
              "    border-bottom-color: var(--fill-color);\n",
              "    animation:\n",
              "      spin 1s steps(1) infinite;\n",
              "  }\n",
              "\n",
              "  @keyframes spin {\n",
              "    0% {\n",
              "      border-color: transparent;\n",
              "      border-bottom-color: var(--fill-color);\n",
              "      border-left-color: var(--fill-color);\n",
              "    }\n",
              "    20% {\n",
              "      border-color: transparent;\n",
              "      border-left-color: var(--fill-color);\n",
              "      border-top-color: var(--fill-color);\n",
              "    }\n",
              "    30% {\n",
              "      border-color: transparent;\n",
              "      border-left-color: var(--fill-color);\n",
              "      border-top-color: var(--fill-color);\n",
              "      border-right-color: var(--fill-color);\n",
              "    }\n",
              "    40% {\n",
              "      border-color: transparent;\n",
              "      border-right-color: var(--fill-color);\n",
              "      border-top-color: var(--fill-color);\n",
              "    }\n",
              "    60% {\n",
              "      border-color: transparent;\n",
              "      border-right-color: var(--fill-color);\n",
              "    }\n",
              "    80% {\n",
              "      border-color: transparent;\n",
              "      border-right-color: var(--fill-color);\n",
              "      border-bottom-color: var(--fill-color);\n",
              "    }\n",
              "    90% {\n",
              "      border-color: transparent;\n",
              "      border-bottom-color: var(--fill-color);\n",
              "    }\n",
              "  }\n",
              "</style>\n",
              "\n",
              "  <script>\n",
              "    async function quickchart(key) {\n",
              "      const quickchartButtonEl =\n",
              "        document.querySelector('#' + key + ' button');\n",
              "      quickchartButtonEl.disabled = true;  // To prevent multiple clicks.\n",
              "      quickchartButtonEl.classList.add('colab-df-spinner');\n",
              "      try {\n",
              "        const charts = await google.colab.kernel.invokeFunction(\n",
              "            'suggestCharts', [key], {});\n",
              "      } catch (error) {\n",
              "        console.error('Error during call to suggestCharts:', error);\n",
              "      }\n",
              "      quickchartButtonEl.classList.remove('colab-df-spinner');\n",
              "      quickchartButtonEl.classList.add('colab-df-quickchart-complete');\n",
              "    }\n",
              "    (() => {\n",
              "      let quickchartButtonEl =\n",
              "        document.querySelector('#df-cf58c50d-8512-4ad9-ae08-35713a2dc87b button');\n",
              "      quickchartButtonEl.style.display =\n",
              "        google.colab.kernel.accessAllowed ? 'block' : 'none';\n",
              "    })();\n",
              "  </script>\n",
              "</div>\n",
              "\n",
              "  <div id=\"id_669d7fa8-d1a0-4755-833b-9ba10f2e95b6\">\n",
              "    <style>\n",
              "      .colab-df-generate {\n",
              "        background-color: #E8F0FE;\n",
              "        border: none;\n",
              "        border-radius: 50%;\n",
              "        cursor: pointer;\n",
              "        display: none;\n",
              "        fill: #1967D2;\n",
              "        height: 32px;\n",
              "        padding: 0 0 0 0;\n",
              "        width: 32px;\n",
              "      }\n",
              "\n",
              "      .colab-df-generate:hover {\n",
              "        background-color: #E2EBFA;\n",
              "        box-shadow: 0px 1px 2px rgba(60, 64, 67, 0.3), 0px 1px 3px 1px rgba(60, 64, 67, 0.15);\n",
              "        fill: #174EA6;\n",
              "      }\n",
              "\n",
              "      [theme=dark] .colab-df-generate {\n",
              "        background-color: #3B4455;\n",
              "        fill: #D2E3FC;\n",
              "      }\n",
              "\n",
              "      [theme=dark] .colab-df-generate:hover {\n",
              "        background-color: #434B5C;\n",
              "        box-shadow: 0px 1px 3px 1px rgba(0, 0, 0, 0.15);\n",
              "        filter: drop-shadow(0px 1px 2px rgba(0, 0, 0, 0.3));\n",
              "        fill: #FFFFFF;\n",
              "      }\n",
              "    </style>\n",
              "    <button class=\"colab-df-generate\" onclick=\"generateWithVariable('df')\"\n",
              "            title=\"Generate code using this dataframe.\"\n",
              "            style=\"display:none;\">\n",
              "\n",
              "  <svg xmlns=\"http://www.w3.org/2000/svg\" height=\"24px\"viewBox=\"0 0 24 24\"\n",
              "       width=\"24px\">\n",
              "    <path d=\"M7,19H8.4L18.45,9,17,7.55,7,17.6ZM5,21V16.75L18.45,3.32a2,2,0,0,1,2.83,0l1.4,1.43a1.91,1.91,0,0,1,.58,1.4,1.91,1.91,0,0,1-.58,1.4L9.25,21ZM18.45,9,17,7.55Zm-12,3A5.31,5.31,0,0,0,4.9,8.1,5.31,5.31,0,0,0,1,6.5,5.31,5.31,0,0,0,4.9,4.9,5.31,5.31,0,0,0,6.5,1,5.31,5.31,0,0,0,8.1,4.9,5.31,5.31,0,0,0,12,6.5,5.46,5.46,0,0,0,6.5,12Z\"/>\n",
              "  </svg>\n",
              "    </button>\n",
              "    <script>\n",
              "      (() => {\n",
              "      const buttonEl =\n",
              "        document.querySelector('#id_669d7fa8-d1a0-4755-833b-9ba10f2e95b6 button.colab-df-generate');\n",
              "      buttonEl.style.display =\n",
              "        google.colab.kernel.accessAllowed ? 'block' : 'none';\n",
              "\n",
              "      buttonEl.onclick = () => {\n",
              "        google.colab.notebook.generateWithVariable('df');\n",
              "      }\n",
              "      })();\n",
              "    </script>\n",
              "  </div>\n",
              "\n",
              "    </div>\n",
              "  </div>\n"
            ],
            "application/vnd.google.colaboratory.intrinsic+json": {
              "type": "dataframe",
              "variable_name": "df",
              "summary": "{\n  \"name\": \"df\",\n  \"rows\": 10,\n  \"fields\": [\n    {\n      \"column\": \"Name\",\n      \"properties\": {\n        \"dtype\": \"string\",\n        \"num_unique_values\": 10,\n        \"samples\": [\n          \"China Construction Bank\",\n          \"Bank of America\",\n          \"Wells Fargo\"\n        ],\n        \"semantic_type\": \"\",\n        \"description\": \"\"\n      }\n    },\n    {\n      \"column\": \"MC_USD_Billion\",\n      \"properties\": {\n        \"dtype\": \"number\",\n        \"std\": 90.22393249884178,\n        \"min\": 136.81,\n        \"max\": 432.92,\n        \"num_unique_values\": 10,\n        \"samples\": [\n          139.82,\n          231.52,\n          155.87\n        ],\n        \"semantic_type\": \"\",\n        \"description\": \"\"\n      }\n    }\n  ]\n}"
            }
          },
          "metadata": {},
          "execution_count": 22
        }
      ]
    },
    {
      "cell_type": "code",
      "source": [
        "df = transform(df, csv_path)\n",
        "log_progress(\"Data transformation complete. Initiating Loading process\")\n",
        "df"
      ],
      "metadata": {
        "colab": {
          "base_uri": "https://localhost:8080/",
          "height": 363
        },
        "id": "HF8ygK4AUEXO",
        "outputId": "a49dc42b-5c6f-49fd-9a08-76cb8210ca24"
      },
      "execution_count": 23,
      "outputs": [
        {
          "output_type": "execute_result",
          "data": {
            "text/plain": [
              "                                      Name  MC_USD_Billion  MC_GBP_Billion  \\\n",
              "0                           JPMorgan Chase          432.92          346.34   \n",
              "1                          Bank of America          231.52          185.22   \n",
              "2  Industrial and Commercial Bank of China          194.56          155.65   \n",
              "3               Agricultural Bank of China          160.68          128.54   \n",
              "4                                HDFC Bank          157.91          126.33   \n",
              "5                              Wells Fargo          155.87          124.70   \n",
              "6                                     HSBC          148.90          119.12   \n",
              "7                           Morgan Stanley          140.83          112.66   \n",
              "8                  China Construction Bank          139.82          111.86   \n",
              "9                            Bank of China          136.81          109.45   \n",
              "\n",
              "   MC_EUR_Billion  MC_INR_Billion  \n",
              "0          402.62        35910.71  \n",
              "1          215.31        19204.58  \n",
              "2          180.94        16138.75  \n",
              "3          149.43        13328.41  \n",
              "4          146.86        13098.63  \n",
              "5          144.96        12929.42  \n",
              "6          138.48        12351.26  \n",
              "7          130.97        11681.85  \n",
              "8          130.03        11598.07  \n",
              "9          127.23        11348.39  "
            ],
            "text/html": [
              "\n",
              "  <div id=\"df-b7f08d38-9170-4b74-925b-097776b9ebc0\" class=\"colab-df-container\">\n",
              "    <div>\n",
              "<style scoped>\n",
              "    .dataframe tbody tr th:only-of-type {\n",
              "        vertical-align: middle;\n",
              "    }\n",
              "\n",
              "    .dataframe tbody tr th {\n",
              "        vertical-align: top;\n",
              "    }\n",
              "\n",
              "    .dataframe thead th {\n",
              "        text-align: right;\n",
              "    }\n",
              "</style>\n",
              "<table border=\"1\" class=\"dataframe\">\n",
              "  <thead>\n",
              "    <tr style=\"text-align: right;\">\n",
              "      <th></th>\n",
              "      <th>Name</th>\n",
              "      <th>MC_USD_Billion</th>\n",
              "      <th>MC_GBP_Billion</th>\n",
              "      <th>MC_EUR_Billion</th>\n",
              "      <th>MC_INR_Billion</th>\n",
              "    </tr>\n",
              "  </thead>\n",
              "  <tbody>\n",
              "    <tr>\n",
              "      <th>0</th>\n",
              "      <td>JPMorgan Chase</td>\n",
              "      <td>432.92</td>\n",
              "      <td>346.34</td>\n",
              "      <td>402.62</td>\n",
              "      <td>35910.71</td>\n",
              "    </tr>\n",
              "    <tr>\n",
              "      <th>1</th>\n",
              "      <td>Bank of America</td>\n",
              "      <td>231.52</td>\n",
              "      <td>185.22</td>\n",
              "      <td>215.31</td>\n",
              "      <td>19204.58</td>\n",
              "    </tr>\n",
              "    <tr>\n",
              "      <th>2</th>\n",
              "      <td>Industrial and Commercial Bank of China</td>\n",
              "      <td>194.56</td>\n",
              "      <td>155.65</td>\n",
              "      <td>180.94</td>\n",
              "      <td>16138.75</td>\n",
              "    </tr>\n",
              "    <tr>\n",
              "      <th>3</th>\n",
              "      <td>Agricultural Bank of China</td>\n",
              "      <td>160.68</td>\n",
              "      <td>128.54</td>\n",
              "      <td>149.43</td>\n",
              "      <td>13328.41</td>\n",
              "    </tr>\n",
              "    <tr>\n",
              "      <th>4</th>\n",
              "      <td>HDFC Bank</td>\n",
              "      <td>157.91</td>\n",
              "      <td>126.33</td>\n",
              "      <td>146.86</td>\n",
              "      <td>13098.63</td>\n",
              "    </tr>\n",
              "    <tr>\n",
              "      <th>5</th>\n",
              "      <td>Wells Fargo</td>\n",
              "      <td>155.87</td>\n",
              "      <td>124.70</td>\n",
              "      <td>144.96</td>\n",
              "      <td>12929.42</td>\n",
              "    </tr>\n",
              "    <tr>\n",
              "      <th>6</th>\n",
              "      <td>HSBC</td>\n",
              "      <td>148.90</td>\n",
              "      <td>119.12</td>\n",
              "      <td>138.48</td>\n",
              "      <td>12351.26</td>\n",
              "    </tr>\n",
              "    <tr>\n",
              "      <th>7</th>\n",
              "      <td>Morgan Stanley</td>\n",
              "      <td>140.83</td>\n",
              "      <td>112.66</td>\n",
              "      <td>130.97</td>\n",
              "      <td>11681.85</td>\n",
              "    </tr>\n",
              "    <tr>\n",
              "      <th>8</th>\n",
              "      <td>China Construction Bank</td>\n",
              "      <td>139.82</td>\n",
              "      <td>111.86</td>\n",
              "      <td>130.03</td>\n",
              "      <td>11598.07</td>\n",
              "    </tr>\n",
              "    <tr>\n",
              "      <th>9</th>\n",
              "      <td>Bank of China</td>\n",
              "      <td>136.81</td>\n",
              "      <td>109.45</td>\n",
              "      <td>127.23</td>\n",
              "      <td>11348.39</td>\n",
              "    </tr>\n",
              "  </tbody>\n",
              "</table>\n",
              "</div>\n",
              "    <div class=\"colab-df-buttons\">\n",
              "\n",
              "  <div class=\"colab-df-container\">\n",
              "    <button class=\"colab-df-convert\" onclick=\"convertToInteractive('df-b7f08d38-9170-4b74-925b-097776b9ebc0')\"\n",
              "            title=\"Convert this dataframe to an interactive table.\"\n",
              "            style=\"display:none;\">\n",
              "\n",
              "  <svg xmlns=\"http://www.w3.org/2000/svg\" height=\"24px\" viewBox=\"0 -960 960 960\">\n",
              "    <path d=\"M120-120v-720h720v720H120Zm60-500h600v-160H180v160Zm220 220h160v-160H400v160Zm0 220h160v-160H400v160ZM180-400h160v-160H180v160Zm440 0h160v-160H620v160ZM180-180h160v-160H180v160Zm440 0h160v-160H620v160Z\"/>\n",
              "  </svg>\n",
              "    </button>\n",
              "\n",
              "  <style>\n",
              "    .colab-df-container {\n",
              "      display:flex;\n",
              "      gap: 12px;\n",
              "    }\n",
              "\n",
              "    .colab-df-convert {\n",
              "      background-color: #E8F0FE;\n",
              "      border: none;\n",
              "      border-radius: 50%;\n",
              "      cursor: pointer;\n",
              "      display: none;\n",
              "      fill: #1967D2;\n",
              "      height: 32px;\n",
              "      padding: 0 0 0 0;\n",
              "      width: 32px;\n",
              "    }\n",
              "\n",
              "    .colab-df-convert:hover {\n",
              "      background-color: #E2EBFA;\n",
              "      box-shadow: 0px 1px 2px rgba(60, 64, 67, 0.3), 0px 1px 3px 1px rgba(60, 64, 67, 0.15);\n",
              "      fill: #174EA6;\n",
              "    }\n",
              "\n",
              "    .colab-df-buttons div {\n",
              "      margin-bottom: 4px;\n",
              "    }\n",
              "\n",
              "    [theme=dark] .colab-df-convert {\n",
              "      background-color: #3B4455;\n",
              "      fill: #D2E3FC;\n",
              "    }\n",
              "\n",
              "    [theme=dark] .colab-df-convert:hover {\n",
              "      background-color: #434B5C;\n",
              "      box-shadow: 0px 1px 3px 1px rgba(0, 0, 0, 0.15);\n",
              "      filter: drop-shadow(0px 1px 2px rgba(0, 0, 0, 0.3));\n",
              "      fill: #FFFFFF;\n",
              "    }\n",
              "  </style>\n",
              "\n",
              "    <script>\n",
              "      const buttonEl =\n",
              "        document.querySelector('#df-b7f08d38-9170-4b74-925b-097776b9ebc0 button.colab-df-convert');\n",
              "      buttonEl.style.display =\n",
              "        google.colab.kernel.accessAllowed ? 'block' : 'none';\n",
              "\n",
              "      async function convertToInteractive(key) {\n",
              "        const element = document.querySelector('#df-b7f08d38-9170-4b74-925b-097776b9ebc0');\n",
              "        const dataTable =\n",
              "          await google.colab.kernel.invokeFunction('convertToInteractive',\n",
              "                                                    [key], {});\n",
              "        if (!dataTable) return;\n",
              "\n",
              "        const docLinkHtml = 'Like what you see? Visit the ' +\n",
              "          '<a target=\"_blank\" href=https://colab.research.google.com/notebooks/data_table.ipynb>data table notebook</a>'\n",
              "          + ' to learn more about interactive tables.';\n",
              "        element.innerHTML = '';\n",
              "        dataTable['output_type'] = 'display_data';\n",
              "        await google.colab.output.renderOutput(dataTable, element);\n",
              "        const docLink = document.createElement('div');\n",
              "        docLink.innerHTML = docLinkHtml;\n",
              "        element.appendChild(docLink);\n",
              "      }\n",
              "    </script>\n",
              "  </div>\n",
              "\n",
              "\n",
              "<div id=\"df-ff67c8c0-7c05-4d26-be0c-89d3c4925e3d\">\n",
              "  <button class=\"colab-df-quickchart\" onclick=\"quickchart('df-ff67c8c0-7c05-4d26-be0c-89d3c4925e3d')\"\n",
              "            title=\"Suggest charts\"\n",
              "            style=\"display:none;\">\n",
              "\n",
              "<svg xmlns=\"http://www.w3.org/2000/svg\" height=\"24px\"viewBox=\"0 0 24 24\"\n",
              "     width=\"24px\">\n",
              "    <g>\n",
              "        <path d=\"M19 3H5c-1.1 0-2 .9-2 2v14c0 1.1.9 2 2 2h14c1.1 0 2-.9 2-2V5c0-1.1-.9-2-2-2zM9 17H7v-7h2v7zm4 0h-2V7h2v10zm4 0h-2v-4h2v4z\"/>\n",
              "    </g>\n",
              "</svg>\n",
              "  </button>\n",
              "\n",
              "<style>\n",
              "  .colab-df-quickchart {\n",
              "      --bg-color: #E8F0FE;\n",
              "      --fill-color: #1967D2;\n",
              "      --hover-bg-color: #E2EBFA;\n",
              "      --hover-fill-color: #174EA6;\n",
              "      --disabled-fill-color: #AAA;\n",
              "      --disabled-bg-color: #DDD;\n",
              "  }\n",
              "\n",
              "  [theme=dark] .colab-df-quickchart {\n",
              "      --bg-color: #3B4455;\n",
              "      --fill-color: #D2E3FC;\n",
              "      --hover-bg-color: #434B5C;\n",
              "      --hover-fill-color: #FFFFFF;\n",
              "      --disabled-bg-color: #3B4455;\n",
              "      --disabled-fill-color: #666;\n",
              "  }\n",
              "\n",
              "  .colab-df-quickchart {\n",
              "    background-color: var(--bg-color);\n",
              "    border: none;\n",
              "    border-radius: 50%;\n",
              "    cursor: pointer;\n",
              "    display: none;\n",
              "    fill: var(--fill-color);\n",
              "    height: 32px;\n",
              "    padding: 0;\n",
              "    width: 32px;\n",
              "  }\n",
              "\n",
              "  .colab-df-quickchart:hover {\n",
              "    background-color: var(--hover-bg-color);\n",
              "    box-shadow: 0 1px 2px rgba(60, 64, 67, 0.3), 0 1px 3px 1px rgba(60, 64, 67, 0.15);\n",
              "    fill: var(--button-hover-fill-color);\n",
              "  }\n",
              "\n",
              "  .colab-df-quickchart-complete:disabled,\n",
              "  .colab-df-quickchart-complete:disabled:hover {\n",
              "    background-color: var(--disabled-bg-color);\n",
              "    fill: var(--disabled-fill-color);\n",
              "    box-shadow: none;\n",
              "  }\n",
              "\n",
              "  .colab-df-spinner {\n",
              "    border: 2px solid var(--fill-color);\n",
              "    border-color: transparent;\n",
              "    border-bottom-color: var(--fill-color);\n",
              "    animation:\n",
              "      spin 1s steps(1) infinite;\n",
              "  }\n",
              "\n",
              "  @keyframes spin {\n",
              "    0% {\n",
              "      border-color: transparent;\n",
              "      border-bottom-color: var(--fill-color);\n",
              "      border-left-color: var(--fill-color);\n",
              "    }\n",
              "    20% {\n",
              "      border-color: transparent;\n",
              "      border-left-color: var(--fill-color);\n",
              "      border-top-color: var(--fill-color);\n",
              "    }\n",
              "    30% {\n",
              "      border-color: transparent;\n",
              "      border-left-color: var(--fill-color);\n",
              "      border-top-color: var(--fill-color);\n",
              "      border-right-color: var(--fill-color);\n",
              "    }\n",
              "    40% {\n",
              "      border-color: transparent;\n",
              "      border-right-color: var(--fill-color);\n",
              "      border-top-color: var(--fill-color);\n",
              "    }\n",
              "    60% {\n",
              "      border-color: transparent;\n",
              "      border-right-color: var(--fill-color);\n",
              "    }\n",
              "    80% {\n",
              "      border-color: transparent;\n",
              "      border-right-color: var(--fill-color);\n",
              "      border-bottom-color: var(--fill-color);\n",
              "    }\n",
              "    90% {\n",
              "      border-color: transparent;\n",
              "      border-bottom-color: var(--fill-color);\n",
              "    }\n",
              "  }\n",
              "</style>\n",
              "\n",
              "  <script>\n",
              "    async function quickchart(key) {\n",
              "      const quickchartButtonEl =\n",
              "        document.querySelector('#' + key + ' button');\n",
              "      quickchartButtonEl.disabled = true;  // To prevent multiple clicks.\n",
              "      quickchartButtonEl.classList.add('colab-df-spinner');\n",
              "      try {\n",
              "        const charts = await google.colab.kernel.invokeFunction(\n",
              "            'suggestCharts', [key], {});\n",
              "      } catch (error) {\n",
              "        console.error('Error during call to suggestCharts:', error);\n",
              "      }\n",
              "      quickchartButtonEl.classList.remove('colab-df-spinner');\n",
              "      quickchartButtonEl.classList.add('colab-df-quickchart-complete');\n",
              "    }\n",
              "    (() => {\n",
              "      let quickchartButtonEl =\n",
              "        document.querySelector('#df-ff67c8c0-7c05-4d26-be0c-89d3c4925e3d button');\n",
              "      quickchartButtonEl.style.display =\n",
              "        google.colab.kernel.accessAllowed ? 'block' : 'none';\n",
              "    })();\n",
              "  </script>\n",
              "</div>\n",
              "\n",
              "  <div id=\"id_31463b49-3487-47a3-a1fc-343fb49852a8\">\n",
              "    <style>\n",
              "      .colab-df-generate {\n",
              "        background-color: #E8F0FE;\n",
              "        border: none;\n",
              "        border-radius: 50%;\n",
              "        cursor: pointer;\n",
              "        display: none;\n",
              "        fill: #1967D2;\n",
              "        height: 32px;\n",
              "        padding: 0 0 0 0;\n",
              "        width: 32px;\n",
              "      }\n",
              "\n",
              "      .colab-df-generate:hover {\n",
              "        background-color: #E2EBFA;\n",
              "        box-shadow: 0px 1px 2px rgba(60, 64, 67, 0.3), 0px 1px 3px 1px rgba(60, 64, 67, 0.15);\n",
              "        fill: #174EA6;\n",
              "      }\n",
              "\n",
              "      [theme=dark] .colab-df-generate {\n",
              "        background-color: #3B4455;\n",
              "        fill: #D2E3FC;\n",
              "      }\n",
              "\n",
              "      [theme=dark] .colab-df-generate:hover {\n",
              "        background-color: #434B5C;\n",
              "        box-shadow: 0px 1px 3px 1px rgba(0, 0, 0, 0.15);\n",
              "        filter: drop-shadow(0px 1px 2px rgba(0, 0, 0, 0.3));\n",
              "        fill: #FFFFFF;\n",
              "      }\n",
              "    </style>\n",
              "    <button class=\"colab-df-generate\" onclick=\"generateWithVariable('df')\"\n",
              "            title=\"Generate code using this dataframe.\"\n",
              "            style=\"display:none;\">\n",
              "\n",
              "  <svg xmlns=\"http://www.w3.org/2000/svg\" height=\"24px\"viewBox=\"0 0 24 24\"\n",
              "       width=\"24px\">\n",
              "    <path d=\"M7,19H8.4L18.45,9,17,7.55,7,17.6ZM5,21V16.75L18.45,3.32a2,2,0,0,1,2.83,0l1.4,1.43a1.91,1.91,0,0,1,.58,1.4,1.91,1.91,0,0,1-.58,1.4L9.25,21ZM18.45,9,17,7.55Zm-12,3A5.31,5.31,0,0,0,4.9,8.1,5.31,5.31,0,0,0,1,6.5,5.31,5.31,0,0,0,4.9,4.9,5.31,5.31,0,0,0,6.5,1,5.31,5.31,0,0,0,8.1,4.9,5.31,5.31,0,0,0,12,6.5,5.46,5.46,0,0,0,6.5,12Z\"/>\n",
              "  </svg>\n",
              "    </button>\n",
              "    <script>\n",
              "      (() => {\n",
              "      const buttonEl =\n",
              "        document.querySelector('#id_31463b49-3487-47a3-a1fc-343fb49852a8 button.colab-df-generate');\n",
              "      buttonEl.style.display =\n",
              "        google.colab.kernel.accessAllowed ? 'block' : 'none';\n",
              "\n",
              "      buttonEl.onclick = () => {\n",
              "        google.colab.notebook.generateWithVariable('df');\n",
              "      }\n",
              "      })();\n",
              "    </script>\n",
              "  </div>\n",
              "\n",
              "    </div>\n",
              "  </div>\n"
            ],
            "application/vnd.google.colaboratory.intrinsic+json": {
              "type": "dataframe",
              "variable_name": "df",
              "summary": "{\n  \"name\": \"df\",\n  \"rows\": 10,\n  \"fields\": [\n    {\n      \"column\": \"Name\",\n      \"properties\": {\n        \"dtype\": \"string\",\n        \"num_unique_values\": 10,\n        \"samples\": [\n          \"China Construction Bank\",\n          \"Bank of America\",\n          \"Wells Fargo\"\n        ],\n        \"semantic_type\": \"\",\n        \"description\": \"\"\n      }\n    },\n    {\n      \"column\": \"MC_USD_Billion\",\n      \"properties\": {\n        \"dtype\": \"number\",\n        \"std\": 90.22393249884178,\n        \"min\": 136.81,\n        \"max\": 432.92,\n        \"num_unique_values\": 10,\n        \"samples\": [\n          139.82,\n          231.52,\n          155.87\n        ],\n        \"semantic_type\": \"\",\n        \"description\": \"\"\n      }\n    },\n    {\n      \"column\": \"MC_GBP_Billion\",\n      \"properties\": {\n        \"dtype\": \"number\",\n        \"std\": 72.18032004023749,\n        \"min\": 109.45,\n        \"max\": 346.34,\n        \"num_unique_values\": 10,\n        \"samples\": [\n          111.86,\n          185.22,\n          124.7\n        ],\n        \"semantic_type\": \"\",\n        \"description\": \"\"\n      }\n    },\n    {\n      \"column\": \"MC_EUR_Billion\",\n      \"properties\": {\n        \"dtype\": \"number\",\n        \"std\": 83.90962758296043,\n        \"min\": 127.23,\n        \"max\": 402.62,\n        \"num_unique_values\": 10,\n        \"samples\": [\n          130.03,\n          215.31,\n          144.96\n        ],\n        \"semantic_type\": \"\",\n        \"description\": \"\"\n      }\n    },\n    {\n      \"column\": \"MC_INR_Billion\",\n      \"properties\": {\n        \"dtype\": \"number\",\n        \"std\": 7484.073236257631,\n        \"min\": 11348.39,\n        \"max\": 35910.71,\n        \"num_unique_values\": 10,\n        \"samples\": [\n          11598.07,\n          19204.58,\n          12929.42\n        ],\n        \"semantic_type\": \"\",\n        \"description\": \"\"\n      }\n    }\n  ]\n}"
            }
          },
          "metadata": {},
          "execution_count": 23
        }
      ]
    },
    {
      "cell_type": "code",
      "source": [
        "load_to_csv(df, output_path)\n",
        "log_progress(\"Data saved to CSV file\")"
      ],
      "metadata": {
        "id": "3stWJEqLUFeW"
      },
      "execution_count": null,
      "outputs": []
    },
    {
      "cell_type": "code",
      "source": [
        "sql_connection = sqlite3.connect(db_name)\n",
        "log_progress(\"SQL Connection initiated\")"
      ],
      "metadata": {
        "id": "BnOlyqccUGgN"
      },
      "execution_count": null,
      "outputs": []
    },
    {
      "cell_type": "code",
      "source": [
        "load_to_db(df, sql_connection, table_name)\n",
        "log_progress(\"Data loaded to Database as a table, Executing queries\")"
      ],
      "metadata": {
        "id": "lBDDWQCiOzC6"
      },
      "execution_count": 11,
      "outputs": []
    },
    {
      "cell_type": "code",
      "source": [
        "query_statement = f\"SELECT * from Largest_banks\"\n",
        "run_query(query_statement, sql_connection)"
      ],
      "metadata": {
        "colab": {
          "base_uri": "https://localhost:8080/"
        },
        "id": "Hoix2xYLO-rV",
        "outputId": "6db557ee-17d0-4df5-fb09-763685bf567f"
      },
      "execution_count": 12,
      "outputs": [
        {
          "output_type": "stream",
          "name": "stdout",
          "text": [
            "SELECT * from Largest_banks\n",
            "                                      Name  MC_USD_Billion  MC_GBP_Billion  \\\n",
            "0                           JPMorgan Chase          432.92          346.34   \n",
            "1                          Bank of America          231.52          185.22   \n",
            "2  Industrial and Commercial Bank of China          194.56          155.65   \n",
            "3               Agricultural Bank of China          160.68          128.54   \n",
            "4                                HDFC Bank          157.91          126.33   \n",
            "5                              Wells Fargo          155.87          124.70   \n",
            "6                                     HSBC          148.90          119.12   \n",
            "7                           Morgan Stanley          140.83          112.66   \n",
            "8                  China Construction Bank          139.82          111.86   \n",
            "9                            Bank of China          136.81          109.45   \n",
            "\n",
            "   MC_EUR_Billion  MC_INR_Billion  \n",
            "0          402.62        35910.71  \n",
            "1          215.31        19204.58  \n",
            "2          180.94        16138.75  \n",
            "3          149.43        13328.41  \n",
            "4          146.86        13098.63  \n",
            "5          144.96        12929.42  \n",
            "6          138.48        12351.26  \n",
            "7          130.97        11681.85  \n",
            "8          130.03        11598.07  \n",
            "9          127.23        11348.39  \n"
          ]
        }
      ]
    },
    {
      "cell_type": "code",
      "source": [
        "query_statement = f\"SELECT AVG(MC_GBP_Billion) FROM Largest_banks\"\n",
        "run_query(query_statement, sql_connection)"
      ],
      "metadata": {
        "colab": {
          "base_uri": "https://localhost:8080/"
        },
        "id": "BKynynCUPBSA",
        "outputId": "53e6b0b0-50c5-42fc-c1e7-07073bcb7061"
      },
      "execution_count": 13,
      "outputs": [
        {
          "output_type": "stream",
          "name": "stdout",
          "text": [
            "SELECT AVG(MC_GBP_Billion) FROM Largest_banks\n",
            "   AVG(MC_GBP_Billion)\n",
            "0              151.987\n"
          ]
        }
      ]
    },
    {
      "cell_type": "code",
      "source": [
        "query_statement = f\"SELECT Name from Largest_banks LIMIT 15\"\n",
        "run_query(query_statement, sql_connection)"
      ],
      "metadata": {
        "colab": {
          "base_uri": "https://localhost:8080/"
        },
        "id": "DnaRk4VhPCRb",
        "outputId": "70144f27-b215-4758-b885-2110481a636c"
      },
      "execution_count": 14,
      "outputs": [
        {
          "output_type": "stream",
          "name": "stdout",
          "text": [
            "SELECT Name from Largest_banks LIMIT 15\n",
            "                                      Name\n",
            "0                           JPMorgan Chase\n",
            "1                          Bank of America\n",
            "2  Industrial and Commercial Bank of China\n",
            "3               Agricultural Bank of China\n",
            "4                                HDFC Bank\n",
            "5                              Wells Fargo\n",
            "6                                     HSBC\n",
            "7                           Morgan Stanley\n",
            "8                  China Construction Bank\n",
            "9                            Bank of China\n"
          ]
        }
      ]
    },
    {
      "cell_type": "code",
      "source": [
        "sql_connection.close()"
      ],
      "metadata": {
        "id": "ESyn8VsmPDaL"
      },
      "execution_count": 15,
      "outputs": []
    },
    {
      "cell_type": "markdown",
      "source": [
        "### Task 7:"
      ],
      "metadata": {
        "id": "HoBCnRShNhhb"
      }
    },
    {
      "cell_type": "markdown",
      "source": [
        "Verify that the log entries have been completed at all stages by checking the contents of the file code_log.txt."
      ],
      "metadata": {
        "id": "WHqpKD85Nq_t"
      }
    },
    {
      "cell_type": "code",
      "source": [
        "with open(log_file, \"r\") as log:\n",
        "    LogContent = log.read()\n",
        "    print(LogContent)"
      ],
      "metadata": {
        "colab": {
          "base_uri": "https://localhost:8080/"
        },
        "id": "9Lz15kdNOr-g",
        "outputId": "00b4bd26-1fca-405f-e8c9-1402f7b4471d"
      },
      "execution_count": 16,
      "outputs": [
        {
          "output_type": "stream",
          "name": "stdout",
          "text": [
            "2024-Oct-07-23:07:08 : Preliminaries complete. Initiating ETL process\n",
            "2024-Oct-07-23:14:09 : Data loaded to Database as a table, Executing queries\n",
            "2024-Oct-07-23:16:07 : Preliminaries complete. Initiating ETL process\n",
            "2024-Oct-07-23:16:07 : Data extraction complete. Initiating Transformation process\n",
            "2024-Oct-07-23:16:07 : Data transformation complete. Initiating Loading process\n",
            "2024-Oct-07-23:16:07 : Data saved to CSV file\n",
            "2024-Oct-07-23:16:07 : SQL Connection initiated\n",
            "2024-Oct-07-23:16:07 : Data loaded to Database as a table, Executing queries\n",
            "\n"
          ]
        }
      ]
    }
  ]
}